{
 "cells": [
  {
   "cell_type": "markdown",
   "metadata": {},
   "source": [
    "##### Run the Following Cell to see the Productivity Analysis of the Test Sheet "
   ]
  },
  {
   "cell_type": "code",
   "execution_count": 1,
   "metadata": {},
   "outputs": [
    {
     "name": "stdout",
     "output_type": "stream",
     "text": [
      "-----------------------------------------------Data Entry Productivity---------------------------------------------\n",
      "\n",
      "\n",
      "\n",
      "Henry:\n",
      "Total Number of entries - 66\n",
      "Entries this month - 66 \n",
      "Average number of entries per week - 15.4\n",
      "Dates Active: 10, 11\n",
      "Articles Completed: 41\n",
      "All PMIDs completed: '27268621' '27268638' '27273268' '27286047' '27298517' '27300560'\n",
      " '27306129' '27311870' '27335150' '27335386' '27340277' '27343872'\n",
      " '27348441' '27348806' '27351324' '27374707' '27376423' '27391604'\n",
      " '27400382' '27411417' '27411454' '27418866' '27422737' '27429427'\n",
      " '27446209' '27446438' '27448521' '27457702' '27459873' '27479883'\n",
      " '27480533' '27495845' '27506457' '27511339' '27517300' '27560687'\n",
      " '27565451' '27571188' '27580119' '27614217' '27614354'\n",
      "Average Number of entries per article: 1.60\n",
      "\n",
      "\n",
      "\n",
      "Ishan Kanungo:\n",
      "Total Number of entries - 39\n",
      "Entries this month - 39 \n",
      "Average entries per week - 9.1 \n",
      "Dates Active: 11\n",
      "Articles Completed: 24\n",
      "All PMIDs completed: '27130062' '27131406' '27141568' '27157628' '27158541' '27165582'\n",
      " '27177081' '27186185' '27186407' '27207231' '27211021' '27215246'\n",
      " '27217417' '27221929' '27226336' '27239652' '27239654' '27239922'\n",
      " '27243012' '27243102' '27252263' '27252269' '27256176' '27267832'\n",
      "Average Number of entries per article: 1.62\n",
      "\n",
      "\n",
      "\n",
      "Shaan Sekhon:\n",
      "Total Number of entries - 32\n",
      "Entries this month - 32 \n",
      "Average entries per week - 7.46\n",
      "Dates Active: 15\n",
      "Articles Completed: 9\n",
      "All PMIDs completed: '23347191' '23867668' '24743389' '24744801' '24745825' '24746091'\n",
      " '24747448' '24750195' '24750274'\n",
      "Average Number of entries per article: 3.55\n",
      "\n",
      "\n",
      "\n",
      "Teddy Wang:\n",
      "Total Number of entries - 162\n",
      "Entries this month - 162\n",
      "Average entries per week - 37.8\n",
      "Dates Active: 8, 9, 10, 11, 13, 15, 17\n",
      "Articles Completed: 71\n",
      "All PMIDs completed: '21684475' '23867668' '24018500' '24773771' '25228461' '28295509'\n",
      " '28300739' '28303329' '28314325' '28316175' '28330469' '28337594'\n",
      " '28338188' '28339441' '28343181' '28348184' '28356871' '28365215'\n",
      " '28366473' '28386294' '28386662' '28392854' '28405738' '28406123'\n",
      " '28413177' '28427368' '28431500' '28436173' '28443593' '28445322'\n",
      " '28476847' '28482620' '28482965' '28496927' '28501453' '28503423'\n",
      " '28506245' '28508616' '28511392' '28512287' '28524782' '28528472'\n",
      " '28534120' '28534329' '28535766' '28535787' '28536483' '28540403'\n",
      " '28554656' '28557364' '28569050' '28572616' '28577319' '28577667'\n",
      " '28579344' '28589439' '28590513' '28591340' '28597452' '28601328'\n",
      " '28606924' '28607048' '28610665' '28615136' '28620755' '28625834'\n",
      " '28631081' '28631157' '28633941' '28637910' '28644873'\n",
      "Average Number of entries per article: 2.28\n",
      "\n",
      "\n",
      "\n",
      "Tiger You:\n",
      "Total Number of entries - 81\n",
      "Entries this month - 81 \n",
      "Average entries per week - 18.9\n",
      "Dates Active: 7, 11\n",
      "Articles Completed: 80\n",
      "All PMIDs completed: '24773771' '25228461' '28002513' '28004196' '28004515' '28007719'\n",
      " '28019716' '28024960' '28030593' '28030783' '28032493' '28032939'\n",
      " '28033378' '28033410' '28034982' '28038779' '28039312' '28039841'\n",
      " '28042883' '28042994' '28043305' '28050448' '28050473' '28061000'\n",
      " '28068849' '28070518' '28071625' '28082446' '28087157' '28087371'\n",
      " '28088238' '28092924' '28098895' '28099523' '28099750' '28103934'\n",
      " '28107589' '28109748' '28111195' '28115842' '28117288' '28125100'\n",
      " '28159943' '28161222' '28167276' '28173983' '28184356' '28186914'\n",
      " '28187209' '28189122' '28189199' '28189448' '28197277' '28198756'\n",
      " '28204086' '28213009' '28214214' '28215176' '28215255' '28215602'\n",
      " '28231511' '28235540' '28243501' '28243881' '28244857' '28246678'\n",
      " '28250286' '28258053' '28258341' '28259779' '28268987' '28270948'\n",
      " '28273214' '28274014' '28275081' '28282381' '28291007' '28295405'\n",
      " '8282071' 'Acta Ortop Bras. 2016 Jul-Aug;24(4):187-190'\n",
      "Average Number of entries per article: 1.01\n",
      "\n",
      "\n",
      "\n",
      "Tim Hamill:\n",
      "Total Number of entries - 6\n",
      "Entries this month - 6 \n",
      "Average entries per week - 1.40\n",
      "Dates Active: 2\n",
      "Articles Completed: 5\n",
      "All PMIDs completed: '23867668' '24773771' '25228461' '25651743' '28032493'\n",
      "Average Number of entries per article: 1.2\n",
      "\n",
      "\n",
      "\n",
      "Vivasvan Vykunta:\n",
      "Total Number of entries - 125\n",
      "Entries this month - 125\n",
      "Average entries per week - 29.1\n",
      "Dates Active: 8, 11\n",
      "Articles Completed: 84\n",
      "All PMIDs completed: '23867668' '24773771' '25228461' '25763885' '26895213' '27543374'\n",
      " '27570064' '27625375' '27625685' '27630073' '27631180' '27631226'\n",
      " '27633027' '27633450' '27636592' '27636719' '27643448' '27644675'\n",
      " '27654965' '27658807' '27662309' '27666959' '27669062' '27671338'\n",
      " '27680751' '27684811' '27689615' '27692400' '27692850' '27693019'\n",
      " '27718417' '27768023' '27776120' '27784363' '27798689' '27802349'\n",
      " '27806112' '27812167' '27812720' '27814269' '27821279' '27823893'\n",
      " '27823971' '27826286' '27826616' '27828854' '27833386' '27839709'\n",
      " '27847100' '27847101' '27847281' '27862191' '27864098' '27864623'\n",
      " '27864723' '27867553' '27870938' '27878926' '27886009' '27888674'\n",
      " '27888803' '27889089' '27889429' '27889781' '27897448' '27899855'\n",
      " '27906157' '27916321' '27918366' '27918494' '27918901' '27932410'\n",
      " '27935447' '27935854' '27955970' '27956255' '27957296' '27987328'\n",
      " '27992895' '27993573' '27995343' '27997557' '27997739' '27999621'\n",
      "Average Number of entries per article: 1.48\n",
      "\n",
      "\n",
      "A Comparison:\n",
      "\n",
      "\n",
      "\n"
     ]
    },
    {
     "data": {
      "image/png": "[encoded data removed]",
      "text/plain": [
       "<matplotlib.figure.Figure at 0x1a138ab358>"
      ]
     },
     "metadata": {},
     "output_type": "display_data"
    },
    {
     "data": {
      "image/png": "[encoded data removed]",
      "text/plain": [
       "<matplotlib.figure.Figure at 0x1a138ab390>"
      ]
     },
     "metadata": {},
     "output_type": "display_data"
    }
   ],
   "source": [
    "run Productivity.ipynb"
   ]
  },
  {
   "cell_type": "code",
   "execution_count": null,
   "metadata": {
    "collapsed": true
   },
   "outputs": [],
   "source": []
  }
 ],
 "metadata": {
  "kernelspec": {
   "display_name": "Python 3",
   "language": "python",
   "name": "python3"
  },
  "language_info": {
   "codemirror_mode": {
    "name": "ipython",
    "version": 3
   },
   "file_extension": ".py",
   "mimetype": "text/x-python",
   "name": "python",
   "nbconvert_exporter": "python",
   "pygments_lexer": "ipython3",
   "version": "3.6.3"
  }
 },
 "nbformat": 4,
 "nbformat_minor": 2
}
