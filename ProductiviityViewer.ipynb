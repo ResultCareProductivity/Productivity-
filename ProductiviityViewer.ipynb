{
 "cells": [
  {
   "cell_type": "markdown",
   "metadata": {},
   "source": [
    "##### Run the Following Cell to see the Productivity Analysis of the Test Sheet "
   ]
  },
  {
   "cell_type": "code",
   "execution_count": 4,
   "metadata": {},
   "outputs": [
    {
     "name": "stdout",
     "output_type": "stream",
     "text": [
      "\n",
      "\n",
      "-----------------------------------------------Databse Growth---------------------------------------------\n",
      "\n",
      "\n",
      "\n",
      "* Total number of Entries versus Date\n"
     ]
    },
    {
     "data": {
      "text/html": [
       "<iframe id=\"igraph\" scrolling=\"no\" style=\"border:none;\" seamless=\"seamless\" src=\"https://plot.ly/~sskhon2014/8.embed\" height=\"525px\" width=\"100%\"></iframe>"
      ],
      "text/plain": [
       "<plotly.tools.PlotlyDisplay object>"
      ]
     },
     "execution_count": 4,
     "metadata": {},
     "output_type": "execute_result"
    }
   ],
   "source": [
    "print(os.linesep.join(['', '']))\n",
    "print(os.linesep.join(['-----------------------------------------------Databse Growth---------------------------------------------']))\n",
    "print(os.linesep.join(['', '', '']))\n",
    "\n",
    "print('* Total number of Entries versus Date')\n",
    "py.iplot(data, filename='scatter-plot-with-colorscale')"
   ]
  },
  {
   "cell_type": "code",
   "execution_count": 5,
   "metadata": {},
   "outputs": [
    {
     "name": "stdout",
     "output_type": "stream",
     "text": [
      "\n",
      "\n",
      "\n",
      "-----------------------------------------Percent Contribution to Database-----------------------------------------\n",
      "\n",
      "\n",
      "\n"
     ]
    },
    {
     "data": {
      "text/html": [
       "<iframe id=\"igraph\" scrolling=\"no\" style=\"border:none;\" seamless=\"seamless\" src=\"https://plot.ly/~sskhon2014/2.embed\" height=\"525px\" width=\"100%\"></iframe>"
      ],
      "text/plain": [
       "<plotly.tools.PlotlyDisplay object>"
      ]
     },
     "execution_count": 5,
     "metadata": {},
     "output_type": "execute_result"
    }
   ],
   "source": [
    "print(os.linesep.join(['', '', '']))\n",
    "import plotly.plotly as py\n",
    "import plotly.graph_objs as go\n",
    "\n",
    "print(os.linesep.join(['-----------------------------------------Percent Contribution to Database-----------------------------------------']))\n",
    "print(os.linesep.join(['', '', '']))\n",
    "labels = ['Henry','Ishan Kanungo','Shaan Sekhon','Teddy Wang', 'Tiger You', 'Tim Hamill', 'Vivasvan Vykunta\t']\n",
    "values = [HenryTotal,IshanTotal,ShaanTotal,TeddyTotal, TigerTotal, TimTotal, VivasvanTotal]\n",
    "colors = ['#FEBFB3', '#E1396C', '#96D38C', '#D0F9B1', 'rgb(56, 75, 126)', 'rgb(18, 36, 37)', 'rgb(34, 53, 101)']\n",
    "\n",
    "trace = go.Pie(labels=labels, values=values,\n",
    "               hoverinfo='label+percent', textinfo='value', \n",
    "               textfont=dict(size=20),\n",
    "               marker=dict(colors=colors, \n",
    "                           line=dict(color='#000000', width=2)))\n",
    "\n",
    "py.iplot([trace], filename='styled_pie_chart')"
   ]
  },
  {
   "cell_type": "code",
   "execution_count": 3,
   "metadata": {},
   "outputs": [
    {
     "name": "stdout",
     "output_type": "stream",
     "text": [
      "-----------------------------------------------Data Entry Productivity---------------------------------------------\n",
      "\n",
      "\n",
      "\n",
      "Henry:\n",
      "Total Number of entries - 66\n",
      "Entries this month - 66 \n",
      "Average number of entries per week - 15.4\n",
      "Dates Active: 10, 11\n",
      "Articles Completed: 41\n",
      "All PMIDs completed: '27268621' '27268638' '27273268' '27286047' '27298517' '27300560'\n",
      " '27306129' '27311870' '27335150' '27335386' '27340277' '27343872'\n",
      " '27348441' '27348806' '27351324' '27374707' '27376423' '27391604'\n",
      " '27400382' '27411417' '27411454' '27418866' '27422737' '27429427'\n",
      " '27446209' '27446438' '27448521' '27457702' '27459873' '27479883'\n",
      " '27480533' '27495845' '27506457' '27511339' '27517300' '27560687'\n",
      " '27565451' '27571188' '27580119' '27614217' '27614354'\n",
      "Average Number of entries per article: 1.60\n",
      "\n",
      "\n",
      "\n",
      "Ishan Kanungo:\n",
      "Total Number of entries - 39\n",
      "Entries this month - 39 \n",
      "Average entries per week - 9.1 \n",
      "Dates Active: 11\n",
      "Articles Completed: 24\n",
      "All PMIDs completed: '27130062' '27131406' '27141568' '27157628' '27158541' '27165582'\n",
      " '27177081' '27186185' '27186407' '27207231' '27211021' '27215246'\n",
      " '27217417' '27221929' '27226336' '27239652' '27239654' '27239922'\n",
      " '27243012' '27243102' '27252263' '27252269' '27256176' '27267832'\n",
      "Average Number of entries per article: 1.62\n",
      "\n",
      "\n",
      "\n",
      "Shaan Sekhon:\n",
      "Total Number of entries - 56\n",
      "Entries this month - 56 \n",
      "Average entries per week - 13.0\n",
      "Dates Active: 15, 20, 21, 22\n",
      "Articles Completed: 15\n",
      "All PMIDs completed: '23347191' '23867668' '24702516' '24702828' '24709086' '24728139'\n",
      " '24739214' '24742130' '24743389' '24744801' '24745825' '24746091'\n",
      " '24747448' '24750195' '24750274'\n",
      "Average Number of entries per article: 3.73\n",
      "\n",
      "\n",
      "\n",
      "Teddy Wang:\n",
      "Total Number of entries - 162\n",
      "Entries this month - 162\n",
      "Average entries per week - 37.8\n",
      "Dates Active: 8, 9, 10, 11, 13, 15, 17\n",
      "Articles Completed: 71\n",
      "All PMIDs completed: '21684475' '23867668' '24018500' '24773771' '25228461' '28295509'\n",
      " '28300739' '28303329' '28314325' '28316175' '28330469' '28337594'\n",
      " '28338188' '28339441' '28343181' '28348184' '28356871' '28365215'\n",
      " '28366473' '28386294' '28386662' '28392854' '28405738' '28406123'\n",
      " '28413177' '28427368' '28431500' '28436173' '28443593' '28445322'\n",
      " '28476847' '28482620' '28482965' '28496927' '28501453' '28503423'\n",
      " '28506245' '28508616' '28511392' '28512287' '28524782' '28528472'\n",
      " '28534120' '28534329' '28535766' '28535787' '28536483' '28540403'\n",
      " '28554656' '28557364' '28569050' '28572616' '28577319' '28577667'\n",
      " '28579344' '28589439' '28590513' '28591340' '28597452' '28601328'\n",
      " '28606924' '28607048' '28610665' '28615136' '28620755' '28625834'\n",
      " '28631081' '28631157' '28633941' '28637910' '28644873'\n",
      "Average Number of entries per article: 2.28\n",
      "\n",
      "\n",
      "\n",
      "Tiger You:\n",
      "Total Number of entries - 151\n",
      "Entries this month - 151\n",
      "Average entries per week - 35.2\n",
      "Dates Active: 7, 11, 20\n",
      "Articles Completed: 148\n",
      "All PMIDs completed: '24773771' '25228461' '26496257' '26496523' '26500897' '26514415'\n",
      " '26518279' '26522672' '26523130' '26523845' '26539512' '26543842'\n",
      " '26546478' '26560078' '26571060' '26583748' '26587778' '26612052'\n",
      " '26620456' '26620960' '26624978' '26629056' '26629900' '26638081'\n",
      " '26642041' '26643761' '26656734' '26659573' '26662647' '26669558'\n",
      " '26669589' '26675493' '26676497' '26676669' '26680697' '26688871'\n",
      " '26690647' '26691246' '26691358' '26693063' '26700020' '26708258'\n",
      " '26710878' '26710975' '26711635' '26724642' '26733514' '26752827'\n",
      " '26767714' '26770453' '26774174' '26779969' '26786720' '26798331'\n",
      " '26802212' '26810164' '26811271' '26823825' '26823828' '26842606'\n",
      " '26851038' '26851800' '26853635' '26854716' '26857117' '26859405'\n",
      " '26863208' '26865894' '26870336' '28002513' '28004196' '28004515'\n",
      " '28007719' '28019716' '28024960' '28030593' '28030783' '28032493'\n",
      " '28032939' '28033378' '28033410' '28034982' '28038779' '28039312'\n",
      " '28039841' '28042883' '28042994' '28043305' '28050448' '28050473'\n",
      " '28061000' '28068849' '28070518' '28071625' '28082446' '28087157'\n",
      " '28087371' '28088238' '28092924' '28098895' '28099523' '28099750'\n",
      " '28103934' '28107589' '28109748' '28111195' '28115842' '28117288'\n",
      " '28125100' '28159943' '28161222' '28167276' '28173983' '28184356'\n",
      " '28186914' '28187209' '28189122' '28189199' '28189448' '28197277'\n",
      " '28198756' '28204086' '28213009' '28214214' '28215176' '28215255'\n",
      " '28215602' '28231511' '28235540' '28243501' '28243881' '28244857'\n",
      " '28246678' '28250286' '28258053' '28258341' '28259779' '28268987'\n",
      " '28270948' '28273214' '28274014' '28275081' '28282381' '28291007'\n",
      " '28295405' '28331748' '8282071'\n",
      " 'Acta Ortop Bras. 2016 Jul-Aug;24(4):187-190'\n",
      "Average Number of entries per article: 1.02\n",
      "\n",
      "\n",
      "\n",
      "Tim Hamill:\n",
      "Total Number of entries - 6\n",
      "Entries this month - 6 \n",
      "Average entries per week - 1.40\n",
      "Dates Active: 2\n",
      "Articles Completed: 5\n",
      "All PMIDs completed: '23867668' '24773771' '25228461' '25651743' '28032493'\n",
      "Average Number of entries per article: 1.2\n",
      "\n",
      "\n",
      "\n",
      "Vivasvan Vykunta:\n",
      "Total Number of entries - 141\n",
      "Entries this month - 141\n",
      "Average entries per week - 32.9\n",
      "Dates Active: 8, 11, 21\n",
      "Articles Completed: 92\n",
      "All PMIDs completed: '23867668' '24773771' '25228461' '25763885' '26459038' '26464682'\n",
      " '26464711' '26466230' '26469342' '26474032' '26474073' '26493342'\n",
      " '26895213' '27543374' '27570064' '27625375' '27625685' '27630073'\n",
      " '27631180' '27631226' '27633027' '27633450' '27636592' '27636719'\n",
      " '27643448' '27644675' '27654965' '27658807' '27662309' '27666959'\n",
      " '27669062' '27671338' '27680751' '27684811' '27689615' '27692400'\n",
      " '27692850' '27693019' '27718417' '27768023' '27776120' '27784363'\n",
      " '27798689' '27802349' '27806112' '27812167' '27812720' '27814269'\n",
      " '27821279' '27823893' '27823971' '27826286' '27826616' '27828854'\n",
      " '27833386' '27839709' '27847100' '27847101' '27847281' '27862191'\n",
      " '27864098' '27864623' '27864723' '27867553' '27870938' '27878926'\n",
      " '27886009' '27888674' '27888803' '27889089' '27889429' '27889781'\n",
      " '27897448' '27899855' '27906157' '27916321' '27918366' '27918494'\n",
      " '27918901' '27932410' '27935447' '27935854' '27955970' '27956255'\n",
      " '27957296' '27987328' '27992895' '27993573' '27995343' '27997557'\n",
      " '27997739' '27999621'\n",
      "Average Number of entries per article: 1.53\n",
      "\n",
      "\n",
      "A Comparison:\n",
      "\n",
      "\n",
      "\n"
     ]
    },
    {
     "data": {
      "image/png": "[encoded data removed]",
      "text/plain": [
       "<matplotlib.figure.Figure at 0x1a1821c668>"
      ]
     },
     "metadata": {},
     "output_type": "display_data"
    },
    {
     "data": {
      "image/png": "[encoded data removed]",
      "text/plain": [
       "<matplotlib.figure.Figure at 0x1a18206eb8>"
      ]
     },
     "metadata": {},
     "output_type": "display_data"
    },
    {
     "name": "stdout",
     "output_type": "stream",
     "text": [
      "\n",
      "\n",
      "\n",
      "\n",
      "\n",
      "\n",
      "\n"
     ]
    },
    {
     "data": {
      "text/html": [
       "<table border=\"1\" class=\"dataframe\">\n",
       "    <thead>\n",
       "        <tr>\n",
       "            <th>Name of Intern</th> <th>count</th>\n",
       "        </tr>\n",
       "    </thead>\n",
       "    <tbody>\n",
       "        <tr>\n",
       "            <td>Arman            </td> <td>23   </td>\n",
       "        </tr>\n",
       "    </tbody>\n",
       "        <tr>\n",
       "            <td>Henry            </td> <td>61   </td>\n",
       "        </tr>\n",
       "    </tbody>\n",
       "        <tr>\n",
       "            <td>Henry            </td> <td>5    </td>\n",
       "        </tr>\n",
       "    </tbody>\n",
       "        <tr>\n",
       "            <td>Ishan Kanungo    </td> <td>39   </td>\n",
       "        </tr>\n",
       "    </tbody>\n",
       "        <tr>\n",
       "            <td>Shaan Sekhon     </td> <td>47   </td>\n",
       "        </tr>\n",
       "    </tbody>\n",
       "        <tr>\n",
       "            <td>Shaan Sekhon     </td> <td>9    </td>\n",
       "        </tr>\n",
       "    </tbody>\n",
       "        <tr>\n",
       "            <td>Shaan Skehon     </td> <td>1    </td>\n",
       "        </tr>\n",
       "    </tbody>\n",
       "        <tr>\n",
       "            <td>Teddy Wang       </td> <td>162  </td>\n",
       "        </tr>\n",
       "    </tbody>\n",
       "        <tr>\n",
       "            <td>Tiger You        </td> <td>151  </td>\n",
       "        </tr>\n",
       "    </tbody>\n",
       "        <tr>\n",
       "            <td>Tim Hamill       </td> <td>6    </td>\n",
       "        </tr>\n",
       "    </tbody>\n",
       "        <tr>\n",
       "            <td>Vivasvan Vykunta </td> <td>140  </td>\n",
       "        </tr>\n",
       "    </tbody>\n",
       "        <tr>\n",
       "            <td>Vivasvan Vykunta </td> <td>1    </td>\n",
       "        </tr>\n",
       "    </tbody>\n",
       "        <tr>\n",
       "            <td>nan              </td> <td>1    </td>\n",
       "        </tr>\n",
       "    </tbody>\n",
       "</table>"
      ],
      "text/plain": [
       "<IPython.core.display.HTML object>"
      ]
     },
     "metadata": {},
     "output_type": "display_data"
    }
   ],
   "source": [
    "run Productivity.ipynb"
   ]
  },
  {
   "cell_type": "code",
   "execution_count": null,
   "metadata": {
    "collapsed": true
   },
   "outputs": [],
   "source": []
  }
 ],
 "metadata": {
  "kernelspec": {
   "display_name": "Python 3",
   "language": "python",
   "name": "python3"
  }
 },
 "nbformat": 4,
 "nbformat_minor": 2
}
